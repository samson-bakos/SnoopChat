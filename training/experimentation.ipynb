{
 "cells": [
  {
   "cell_type": "code",
   "execution_count": 5,
   "metadata": {},
   "outputs": [
    {
     "name": "stdout",
     "output_type": "stream",
     "text": [
      "Total videos in playlist: 108\n"
     ]
    }
   ],
   "source": [
    "from googleapiclient.discovery import build\n",
    "\n",
    "key_file_path = '/Users/samsonbakos/keys/YoutubeData/key.txt'\n",
    "\n",
    "with open(key_file_path, 'r') as file:\n",
    "   api_key = file.read().strip()\n",
    "\n",
    "if api_key is None:\n",
    "    print(\"API key not found. Please set the YOUTUBE_API_KEY environment variable.\")\n",
    "else:\n",
    "    youtube = build('youtube', 'v3', developerKey=api_key)\n",
    "\n",
    "    playlist_id = 'PLwn6OmTp6iV2bmo-bjqymSWIxZVHm-p_i'\n",
    "    videos = []\n",
    "\n",
    "    nextPageToken = None\n",
    "    while True:\n",
    "        pl_request = youtube.playlistItems().list(\n",
    "            part='contentDetails',\n",
    "            playlistId=playlist_id,\n",
    "            maxResults=50,\n",
    "            pageToken=nextPageToken\n",
    "        )\n",
    "\n",
    "        pl_response = pl_request.execute()\n",
    "\n",
    "        videos += [item['contentDetails']['videoId'] for item in pl_response['items']]\n",
    "\n",
    "        nextPageToken = pl_response.get('nextPageToken')\n",
    "\n",
    "        if not nextPageToken:\n",
    "            break\n",
    "\n",
    "    print(f\"Total videos in playlist: {len(videos)}\")\n"
   ]
  },
  {
   "cell_type": "code",
   "execution_count": null,
   "metadata": {},
   "outputs": [],
   "source": []
  }
 ],
 "metadata": {
  "kernelspec": {
   "display_name": "snoopchat",
   "language": "python",
   "name": "python3"
  },
  "language_info": {
   "codemirror_mode": {
    "name": "ipython",
    "version": 3
   },
   "file_extension": ".py",
   "mimetype": "text/x-python",
   "name": "python",
   "nbconvert_exporter": "python",
   "pygments_lexer": "ipython3",
   "version": "3.12.2"
  }
 },
 "nbformat": 4,
 "nbformat_minor": 2
}
