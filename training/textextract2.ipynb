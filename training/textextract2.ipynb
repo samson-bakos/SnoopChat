{
 "cells": [
  {
   "cell_type": "markdown",
   "metadata": {},
   "source": [
    "## Method 2: Prelabelled Data\n",
    "\n",
    "Using a labelled transcript from https://transcripts.cnn.com/show/lkl/date/2010-03-26/segment/01"
   ]
  },
  {
   "cell_type": "code",
   "execution_count": 6,
   "metadata": {},
   "outputs": [
    {
     "name": "stdout",
     "output_type": "stream",
     "text": [
      "Prompt: And he's talking Tiger.\n",
      "Response: Nobody's perfect and everybody makes mistakes.\n",
      "\n",
      "Prompt: His drug of choice.\n",
      "Response: I know it should be legalized. Legalize it and I (INAUDIBLE).\n",
      "\n",
      "Prompt: What about Susan Boyle?\n",
      "Response: She's a great artist. I'm looking forward to going to the studio with her.\n",
      "\n",
      "Prompt: Relax.\n",
      "Response: Wait.\n",
      "\n",
      "Prompt: I'm a G now, right?\n",
      "Response: You a double O-G.\n",
      "\n",
      "231\n"
     ]
    }
   ],
   "source": [
    "import re\n",
    "\n",
    "transcript_file_path = '../data/transcript.txt'\n",
    "\n",
    "with open(transcript_file_path, 'r', encoding='utf-8') as file:\n",
    "    transcript_text = file.read()\n",
    "\n",
    "# regular expression to match lines with at least four sequential capital letters\n",
    "# that is NOT Snoop Dogg\n",
    "prompt_regex = re.compile(r'^(?!SNOOP DOGG:)[A-Z]{4,}')\n",
    "\n",
    "lines = [line for line in transcript_text.split('\\n') if line.strip()]\n",
    "\n",
    "conversations = []\n",
    "current_prompt = \"\"\n",
    "current_response = \"\"\n",
    "collect_response = False\n",
    "\n",
    "for line in lines:\n",
    "    if line.startswith(\"SNOOP DOGG:\"):\n",
    "        if collect_response:\n",
    "            # extract the text after the colon for Snoop Dogg's response\n",
    "            current_response = line.split(\": \", 1)[1]\n",
    "            conversations.append((current_prompt, current_response))\n",
    "            # reset for the next cycle\n",
    "            current_prompt = \"\"\n",
    "            current_response = \"\"\n",
    "            collect_response = False\n",
    "    elif prompt_regex.match(line):\n",
    "        if current_prompt:\n",
    "            # if there was a previous prompt without a Snoop response, reset response collection\n",
    "            collect_response = True\n",
    "        # extract the text after the colon for the prompt\n",
    "        prompt_text = line.split(\": \", 1)[1] if \": \" in line else line\n",
    "        current_prompt = prompt_text\n",
    "        collect_response = True\n",
    "    else:\n",
    "        # append non-prompt, non-response lines to the current response if we're collecting responses\n",
    "        if collect_response:\n",
    "            current_response += (current_response + \" \" if current_response else \"\") + line\n",
    "\n",
    "# add the last conversation if it hasn't been added\n",
    "if current_prompt and current_response:\n",
    "    conversations.append((current_prompt, current_response))\n",
    "\n",
    "# test: print pairs of prompts and responses\n",
    "for prompt, response in conversations[:5]:\n",
    "    print(f\"Prompt: {prompt}\\nResponse: {response}\\n\")\n",
    "\n",
    "print(len(conversations))\n"
   ]
  },
  {
   "cell_type": "code",
   "execution_count": 8,
   "metadata": {},
   "outputs": [],
   "source": [
    "import json\n",
    "\n",
    "jsonl_file_path = '../data/transcript_for_fine_tuning.jsonl'\n",
    "\n",
    "with open(jsonl_file_path, 'w', encoding='utf-8') as jsonl_file:\n",
    "    for prompt, response in conversations:\n",
    "        fine_tuning_entry = {\n",
    "            \"prompt\": prompt + \"\\n\",  # Add a newline to separate the prompt from the model's response\n",
    "            \"completion\": response\n",
    "        }\n",
    "        jsonl_file.write(json.dumps(fine_tuning_entry) + \"\\n\")"
   ]
  },
  {
   "cell_type": "code",
   "execution_count": null,
   "metadata": {},
   "outputs": [],
   "source": [
    "s"
   ]
  }
 ],
 "metadata": {
  "kernelspec": {
   "display_name": "snoopchat",
   "language": "python",
   "name": "python3"
  },
  "language_info": {
   "codemirror_mode": {
    "name": "ipython",
    "version": 3
   },
   "file_extension": ".py",
   "mimetype": "text/x-python",
   "name": "python",
   "nbconvert_exporter": "python",
   "pygments_lexer": "ipython3",
   "version": "3.12.2"
  }
 },
 "nbformat": 4,
 "nbformat_minor": 2
}
