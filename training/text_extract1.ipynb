{
 "cells": [
  {
   "cell_type": "markdown",
   "metadata": {},
   "source": [
    "## Method 1:\n",
    "\n",
    "Extract and labelling transcripts from YouTube"
   ]
  },
  {
   "cell_type": "code",
   "execution_count": 1,
   "metadata": {},
   "outputs": [
    {
     "name": "stdout",
     "output_type": "stream",
     "text": [
      "Total videos in playlist: 108\n"
     ]
    }
   ],
   "source": [
    "from googleapiclient.discovery import build\n",
    "\n",
    "key_file_path = '/Users/samsonbakos/keys/YoutubeData/key.txt'\n",
    "\n",
    "with open(key_file_path, 'r') as file:\n",
    "   api_key = file.read().strip()\n",
    "\n",
    "if api_key is None:\n",
    "    print(\"API key not found. Please set the YOUTUBE_API_KEY environment variable.\")\n",
    "else:\n",
    "    youtube = build('youtube', 'v3', developerKey=api_key)\n",
    "\n",
    "    playlist_id = 'PLwn6OmTp6iV2bmo-bjqymSWIxZVHm-p_i'\n",
    "    videos = []\n",
    "\n",
    "    nextPageToken = None\n",
    "    while True:\n",
    "        pl_request = youtube.playlistItems().list(\n",
    "            part='contentDetails',\n",
    "            playlistId=playlist_id,\n",
    "            maxResults=50,\n",
    "            pageToken=nextPageToken\n",
    "        )\n",
    "\n",
    "        pl_response = pl_request.execute()\n",
    "\n",
    "        videos += [item['contentDetails']['videoId'] for item in pl_response['items']]\n",
    "\n",
    "        nextPageToken = pl_response.get('nextPageToken')\n",
    "\n",
    "        if not nextPageToken:\n",
    "            break\n",
    "\n",
    "    print(f\"Total videos in playlist: {len(videos)}\")\n"
   ]
  },
  {
   "cell_type": "code",
   "execution_count": 2,
   "metadata": {},
   "outputs": [],
   "source": [
    "from youtube_transcript_api import YouTubeTranscriptApi\n",
    "\n",
    "transcripts = []\n",
    "for video_id in videos:\n",
    "    try:\n",
    "        # Fetching the transcript for each video\n",
    "        transcript = YouTubeTranscriptApi.get_transcript(video_id)\n",
    "        transcripts.append((video_id, transcript))\n",
    "        #  print(f\"Successfully processed video {video_id}\")\n",
    "    except Exception as e:\n",
    "        # print(f\"An error occurred for video ID {video_id}\")\n",
    "        pass"
   ]
  },
  {
   "cell_type": "code",
   "execution_count": 3,
   "metadata": {},
   "outputs": [
    {
     "data": {
      "text/plain": [
       "list"
      ]
     },
     "execution_count": 3,
     "metadata": {},
     "output_type": "execute_result"
    }
   ],
   "source": [
    "type(transcripts)"
   ]
  },
  {
   "cell_type": "code",
   "execution_count": 4,
   "metadata": {},
   "outputs": [
    {
     "data": {
      "text/plain": [
       "tuple"
      ]
     },
     "execution_count": 4,
     "metadata": {},
     "output_type": "execute_result"
    }
   ],
   "source": [
    "type(transcripts[0])"
   ]
  },
  {
   "cell_type": "code",
   "execution_count": 5,
   "metadata": {},
   "outputs": [
    {
     "data": {
      "text/plain": [
       "'Q3vzQXDIRgE'"
      ]
     },
     "execution_count": 5,
     "metadata": {},
     "output_type": "execute_result"
    }
   ],
   "source": [
    "transcripts[0][0]"
   ]
  },
  {
   "cell_type": "code",
   "execution_count": 6,
   "metadata": {},
   "outputs": [
    {
     "data": {
      "text/plain": [
       "list"
      ]
     },
     "execution_count": 6,
     "metadata": {},
     "output_type": "execute_result"
    }
   ],
   "source": [
    "type(transcripts[0][1])"
   ]
  },
  {
   "cell_type": "code",
   "execution_count": 7,
   "metadata": {},
   "outputs": [
    {
     "data": {
      "text/plain": [
       "{'text': \"what's the last thing you remember so\",\n",
       " 'start': 0.06,\n",
       " 'duration': 4.77}"
      ]
     },
     "execution_count": 7,
     "metadata": {},
     "output_type": "execute_result"
    }
   ],
   "source": [
    "transcripts[0][1][0]"
   ]
  },
  {
   "cell_type": "markdown",
   "metadata": {},
   "source": [
    "## Testing on a Single Video"
   ]
  },
  {
   "cell_type": "code",
   "execution_count": 43,
   "metadata": {},
   "outputs": [],
   "source": [
    "# video_id, snippets = transcripts[1]  \n",
    "\n",
    "# prompt_text = \"\"\"\n",
    "# Below are snippets from a conversation involving multiple people, including Snoop Dogg. \n",
    "# Snoop Dogg has a distinctive style, often marked by his unique slang and references. \n",
    "# Your task is to read each snippet and decide if it sounds like something Snoop Dogg would say. \n",
    "# Label snippets you believe are spoken by Snoop Dogg with 'Snoop Dogg:' and all others with 'Other:'. \n",
    "# Remember, not all snippets may be from Snoop Dogg, \n",
    "# Example:\n",
    "# Snippet: \"Hey, what's up?\"\n",
    "# Label: Other: \"Hey, what's up?\"\n",
    "# Snippet: \"Fo shizzle, just chillin'.\"\n",
    "# Label: Snoop Dogg: \"Fo shizzle, just chillin'.\"\n",
    "\n",
    "# Remember, this is a conversation, so about half of the labels should be Snoop Dogg. Snoop Dogg is definitely one of the speakers. \n",
    "# Even if you're not certain the speaker is Snoop Dogg based on the language, do you best to label the transcript as just two different speakers having a conversation.\n",
    "# Do NOT label every snippet as other, or every snippet as snoop dogg. Half of the labels should be Snoop Dogg, and Half Other\n",
    "# Now, label the following snippets:\n",
    "\n",
    "\n",
    "# \"\"\"\n",
    "\n",
    "# for index, snippet in enumerate(snippets, start=1):\n",
    "#     prompt_text += f\"{index}. \\\"{snippet['text']}\\\"\\n\"\n",
    "\n",
    "# prompt_text += \"\\nPlease identify and label the snippets spoken by Snoop Dogg or by the Other speaker.\"\n"
   ]
  },
  {
   "cell_type": "code",
   "execution_count": null,
   "metadata": {},
   "outputs": [],
   "source": [
    "# from openai import OpenAI\n",
    "\n",
    "# api_key_path = '/Users/samsonbakos/keys/OpenAI/key.txt'\n",
    "\n",
    "# with open(api_key_path, 'r') as file:\n",
    "#     api_key = file.read().strip()\n",
    "\n",
    "# client = OpenAI(api_key=api_key)\n",
    "\n",
    "\n",
    "# response = client.chat.completions.create(\n",
    "#     model=\"gpt-3.5-turbo\",\n",
    "#     messages=[\n",
    "#         {\"role\": \"system\", \"content\": prompt_text}\n",
    "#     ]\n",
    "# )\n",
    "\n",
    "# try:\n",
    "#     for message in response.choices:\n",
    "#         print(message.message.content)\n",
    "# except AttributeError:\n",
    "#     print(\"There was an error processing the response. Please check the response format.\")"
   ]
  },
  {
   "cell_type": "markdown",
   "metadata": {},
   "source": [
    "## Looping Over all Videos"
   ]
  },
  {
   "cell_type": "code",
   "execution_count": 45,
   "metadata": {},
   "outputs": [],
   "source": [
    "from openai import OpenAI\n",
    "\n",
    "api_key_path = '/Users/samsonbakos/keys/OpenAI/key.txt'\n",
    "with open(api_key_path, 'r') as file:\n",
    "    api_key = file.read().strip()\n",
    "\n",
    "client = OpenAI(api_key=api_key)\n",
    "\n",
    "processed_videos = []\n",
    "\n",
    "for video_id, snippets in transcripts:\n",
    "\n",
    "    prompt_text = \"\"\"\n",
    "    Below are snippets from a conversation involving multiple people, including Snoop Dogg. \n",
    "    Snoop Dogg has a distinctive style, often marked by his unique slang and references. \n",
    "    Your task is to read each snippet and decide if it sounds like something Snoop Dogg would say. \n",
    "    Label snippets you believe are spoken by Snoop Dogg with 'Snoop Dogg:' and all others with 'Other:'. \n",
    "    Remember, not all snippets may be from Snoop Dogg.\n",
    "    \n",
    "    Remember, this is a conversation, so about half of the labels should be Snoop Dogg. Snoop Dogg is definitely one of the speakers. \n",
    "    Even if you're not certain the speaker is Snoop Dogg based on the language, do your best to label the transcript as just two different speakers having a conversation.\n",
    "    Do NOT label every snippet as other, or every snippet as Snoop Dogg. Half of the labels should be Snoop Dogg, and Half Other.\n",
    "    \n",
    "    Now, label the following snippets:\n",
    "    \"\"\"\n",
    "    \n",
    "    for index, snippet in enumerate(snippets, start=1):\n",
    "        prompt_text += f\"{index}. \\\"{snippet['text']}\\\"\\n\"\n",
    "\n",
    "    prompt_text += \"\\nPlease identify and label the snippets spoken by Snoop Dogg or by the Other speaker.\"\n",
    "    \n",
    "    response = client.chat.completions.create(\n",
    "        model=\"gpt-3.5-turbo\",\n",
    "        messages=[\n",
    "            {\"role\": \"system\", \"content\": prompt_text}\n",
    "        ]\n",
    "    )\n",
    "    \n",
    "    try:\n",
    "        response_text = response.choices[0].message.content\n",
    "        processed_videos.append((video_id, response_text))\n",
    "    except AttributeError:\n",
    "        print(f\"There was an error processing the response for video {video_id}.\")\n",
    "        processed_videos.append((video_id, None))\n"
   ]
  },
  {
   "cell_type": "code",
   "execution_count": null,
   "metadata": {},
   "outputs": [],
   "source": [
    "len(processed_videos)"
   ]
  },
  {
   "cell_type": "code",
   "execution_count": 49,
   "metadata": {},
   "outputs": [
    {
     "data": {
      "text/plain": [
       "('VLiQm9Z6wFw',\n",
       " 'Other: \"I heard you know how to play the guitar\"\\nOther: \"well I knew how to play the guitar new\"\\nOther: \"and no what\\'s the difference well I when\"\\nOther: \"I was young I did it no it\\'s been years\"\\nOther: \"and years and years but I I learned how\"\\nOther: \"to play again for the show go grab one\"\\nOther: \"of my guitars out of my studio no I\\'ll\"\\nSnoop Dogg: \"kill the first person to move\"\\nOther: \"[Music]\"\\nOther: \"[Music]\"\\nOther: \"ladies and gentlemen boys and girls you\"\\nSnoop Dogg: \"inside the ggn news network I\\'m your\"\\nSnoop Dogg: \"host with the most Finding Nemo AKA Nemo\"\\nOther: \"hoes and today oh my God the\"\\nOther: \"incomparable the Beautiful the awesome\"\\nOther: \"the scary\"\\nOther: \"yes yes have a look it\\'s Kathy Bates\"\\nOther: \"Kathy Bates what\\'s happening I\\'m so\"\\nOther: \"happy to be here with you Snoopy no it\\'s\"\\nOther: \"my pleasure I mean I\\'m such a fan I\\'ve\"\\nOther: \"been a fan of yours since the first time\"\\nSnoop Dogg: \"I seen you on screen I don\\'t even know\"\\nSnoop Dogg: \"what movie it was it was a movie where\"\\nSnoop Dogg: \"you you you kidnap somebody and you was\"\\nSnoop Dogg: \"beating him and he you had that that\"\\nSnoop Dogg: \"Melody what was that movie called misery\"\\nOther: \"misery oh my God I loved you you were so\"\\nOther: \"like scary but at the same time it was\"\\nOther: \"like it was amazing thank you how\\'d you\"\\nOther: \"get that role\"\\nSnoop Dogg: \"um it was\"\\nSnoop Dogg: \"um it was luck really uh Rob Reiner who\"\\nSnoop Dogg: \"was the director of the movie was going\"\\nOther: \"out with a woman that I was doing a play\"\\nOther: \"with\"\\nOther: \"and so he would come to the play every\"\\nOther: \"night you know and he would see her but\"\\nOther: \"he would see me and I was playing a\"\\nOther: \"fanatic and so I think that kind of put\"\\nOther: \"it in his head and he had his own\"\\nOther: \"company so he could decide to use\"\\nOther: \"somebody that nobody knew instead of a\"\\nOther: \"star so it was just pure luck and that\"\\nOther: \"character as follows you\"\\nOther: \"for how many years because I know still\"\\nOther: \"people still love that character when\"\\nOther: \"he\\'s seven 27 years\"\\nOther: \"I think so\"\\nSnoop Dogg: \"that\\'s oh my God that\\'s amazing when you\"\\nSnoop Dogg: \"when you were filming it\"\\nOther: \"but like it was magic like that because\"\\nOther: \"sometimes when we do work we can feel\"\\nOther: \"that magic when it\\'s happening did you\"\\nOther: \"feel that magic when you were filming\"\\nOther: \"yeah yeah I felt really uh I wouldn\\'t\"\\nOther: \"stay in my trailer I\\'d go hang out on\"\\nOther: \"the set in between shots you know watch\"\\nOther: \"what they were doing because it was the\"\\nOther: \"first really big part I had in the movie\"\\nOther: \"so uh I learned a lot but I also just I\"\\nOther: \"remember walking down uh toward the end\"\\nOther: \"of The Sound Stage and a guy who\\'d been\"\\nOther: \"a dresser for years and years and years\"\\nOther: \"strewens we call them which was Italian\"\\nOther: \"for you know the last Caboose whatever\"\\nOther: \"he walked right by me and he said get\"\\nOther: \"your Oscar dress ready\"\\nSnoop Dogg: \"so for real and I was like\"\\nOther: \"because I I just come from the theater I\"\\nOther: \"didn\\'t really think about things like\"\\nOther: \"that damn so that was that was that\\'s\"\\nOther: \"amazing right there for him to say that\"\\nOther: \"and for him to know that he\\'d been\"\\nOther: \"around the mountain he know what it was\"\\nOther: \"he knew he was going to be up top\"\\nSnoop Dogg: \"another role that I loved you in\"\\nSnoop Dogg: \"Bobby Boucher\"\\nOther: \"[\\xa0__\\xa0] water boy man come on man\"\\nOther: \"foosball Mama didn\\'t like that foosball\"\\nOther: \"foosball is the devil Mama didn\\'t like\"\\nOther: \"no fools now you come on man that that\"\\nOther: \"was a great movie right there\"\\nOther: \"um I have to admit this I I didn\\'t know\"\\nOther: \"who Adam Sandler was what okay I know I\"\\nOther: \"know I know but it was a long time ago\"\\nOther: \"right whenever I was shooting Bobby\"\\nOther: \"Boucher you didn\\'t know I didn\\'t know\"\\nOther: \"who he was I wasn\\'t watching SNL and my\"\\nOther: \"my niece okay so that\\'s exactly what\"\\nSnoop Dogg: \"happened so I get this script and I\"\\nSnoop Dogg: \"don\\'t know who Adam Sandler is and I\\'m\"\\nSnoop Dogg: \"reading it first 12 pages I literally\"\\nSnoop Dogg: \"throwed it through it in the trash what\"\\nOther: \"you didn\\'t want no parts wait I was like\"\\nOther: \"football you know so I threw it in the\"\\nOther: \"trash and I\\'m sitting there on my bed\"\\nOther: \"and my niece who works for me came in\"\\nOther: \"and she said what is this and she pulled\"\\nOther: \"it out and she said Adam Sandler you\"\\nOther: \"don\\'t know the the the Hanukkah song you\"\\nOther: \"don\\'t know she said you have to do this\"\\nSnoop Dogg: \"movie and she was right we had so much\"\\nSnoop Dogg: \"fun unbelievable aren\\'t the kids the\"\\nSnoop Dogg: \"future don\\'t they know so much more now\"\\nOther: \"yeah I mean because I go like I have to\"\\nOther: \"be honest with you a lot of times I go\"\\nOther: \"to my kids and they make decisions for\"\\nOther: \"me that become great decisions down the\"\\nOther: \"road because they see things that I\"\\nOther: \"don\\'t see it\\'s sort of kind of like what\"\\nOther: \"you saying like you didn\\'t know who this\"\\nOther: \"person was but that movie was so dope it\"\\nOther: \"was like it was a classic we love that\"\\nOther: \"movie yeah let\\'s speed the clock up to\"\\nOther: \"now 2017. disjointed a show on Netflix\"\\nOther: \"that I love watching I heard that a\"\\nOther: \"particular doctor\"\\nOther: \"my doctor\"\\nSnoop Dogg: \"is the Cannabis coach on the set Dr Dina\"\\nSnoop Dogg: \"Dr Dina we call her the Cannabis\"\\nSnoop Dogg: \"consultant yep she goes to all the\"\\nSnoop Dogg: \"rehearsals she goes to the meeting she\\'s\"\\nSnoop Dogg: \"taught the kids like you know the guy\"\\nSnoop Dogg: \"who\\'s the grower and all of these\"\\nSnoop Dogg: \"different kind of things that go on in\"\\nSnoop Dogg: \"her store the lingo yeah yeah\"\\nOther: \"she\\'s a great person yeah you met her\"\\nOther: \"didn\\'t you she was a doctor\"\\nSnoop Dogg: \"ah for my sickness\"\\nSnoop Dogg: \"I might add\"\\nOther: \"thank you doctor I love you\"\\nOther: \"no she\\'s a great lady and to see her on\"\\nOther: \"the set with you guys is amazing it\\'s\"\\nOther: \"just showing that\"\\nOther: \"this cannabis world is where it needs to\"\\nOther: \"be now\"\\nOther: \"on the Forefront to have a show like\"\\nOther: \"that with you as the leading actress\"\\nOther: \"in a cannabis movement\"\\nOther: \"did you ever think no\"\\nSnoop Dogg: \"I never knew I never thought because\"\\nSnoop Dogg: \"when I was in college when I was you\"\\nOther: \"know kind of coming up everybody was\"\\nOther: \"doing it but nobody told me about it\"\\nOther: \"what because that was so straight oh\"\\nOther: \"okay I was so Square it was a square I\"\\nOther: \"was totally a square and I had no clue\"\\nSnoop Dogg: \"about anything well that\\'s good because\"\\nSnoop Dogg: \"you look amazing you know I\\'m not I\\'m\"\\nSnoop Dogg: \"not [\\xa0__\\xa0] I\\'m telling you if you am I\"\\nSnoop Dogg: \"live fellas yeah\"')"
      ]
     },
     "execution_count": 49,
     "metadata": {},
     "output_type": "execute_result"
    }
   ],
   "source": [
    "import json\n",
    "\n",
    "processed_data = []\n",
    "\n",
    "for video_id, labeled_snippets_text in processed_videos:\n",
    "    processed_data.append({\n",
    "        \"video_id\": video_id,\n",
    "        \"labeled_snippets\": labeled_snippets_text  \n",
    "    })\n"
   ]
  },
  {
   "cell_type": "markdown",
   "metadata": {},
   "source": [
    "Overall data quality is very poor. Probably won't work this way"
   ]
  },
  {
   "cell_type": "code",
   "execution_count": null,
   "metadata": {},
   "outputs": [],
   "source": []
  }
 ],
 "metadata": {
  "kernelspec": {
   "display_name": "snoopchat",
   "language": "python",
   "name": "python3"
  },
  "language_info": {
   "codemirror_mode": {
    "name": "ipython",
    "version": 3
   },
   "file_extension": ".py",
   "mimetype": "text/x-python",
   "name": "python",
   "nbconvert_exporter": "python",
   "pygments_lexer": "ipython3",
   "version": "3.12.2"
  }
 },
 "nbformat": 4,
 "nbformat_minor": 2
}
